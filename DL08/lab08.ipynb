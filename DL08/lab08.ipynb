{
 "cells": [
  {
   "cell_type": "code",
   "execution_count": 1,
   "metadata": {},
   "outputs": [
    {
     "name": "stdout",
     "output_type": "stream",
     "text": [
      "Requirement already satisfied: ultralytics in c:\\users\\satyam\\appdata\\local\\programs\\python\\python310\\lib\\site-packages (8.0.0)\n",
      "Requirement already satisfied: hydra-core>=1.2.0 in c:\\users\\satyam\\appdata\\local\\programs\\python\\python310\\lib\\site-packages (from ultralytics) (1.3.2)\n",
      "Requirement already satisfied: matplotlib>=3.2.2 in c:\\users\\satyam\\appdata\\local\\programs\\python\\python310\\lib\\site-packages (from ultralytics) (3.8.3)\n",
      "Requirement already satisfied: numpy>=1.18.5 in c:\\users\\satyam\\appdata\\local\\programs\\python\\python310\\lib\\site-packages (from ultralytics) (1.24.3)\n",
      "Requirement already satisfied: opencv-python>=4.1.1 in c:\\users\\satyam\\appdata\\local\\programs\\python\\python310\\lib\\site-packages (from ultralytics) (4.9.0.80)\n",
      "Requirement already satisfied: Pillow>=7.1.2 in c:\\users\\satyam\\appdata\\local\\programs\\python\\python310\\lib\\site-packages (from ultralytics) (9.5.0)\n",
      "Requirement already satisfied: PyYAML>=5.3.1 in c:\\users\\satyam\\appdata\\local\\programs\\python\\python310\\lib\\site-packages (from ultralytics) (6.0.1)\n",
      "Requirement already satisfied: requests>=2.23.0 in c:\\users\\satyam\\appdata\\local\\programs\\python\\python310\\lib\\site-packages (from ultralytics) (2.29.0)\n",
      "Requirement already satisfied: scipy>=1.4.1 in c:\\users\\satyam\\appdata\\local\\programs\\python\\python310\\lib\\site-packages (from ultralytics) (1.12.0)\n",
      "Requirement already satisfied: torch>=1.7.0 in c:\\users\\satyam\\appdata\\local\\programs\\python\\python310\\lib\\site-packages (from ultralytics) (2.2.1)\n",
      "Requirement already satisfied: torchvision>=0.8.1 in c:\\users\\satyam\\appdata\\local\\programs\\python\\python310\\lib\\site-packages (from ultralytics) (0.17.1)\n",
      "Requirement already satisfied: tqdm>=4.64.0 in c:\\users\\satyam\\appdata\\local\\programs\\python\\python310\\lib\\site-packages (from ultralytics) (4.66.2)\n",
      "Requirement already satisfied: tensorboard>=2.4.1 in c:\\users\\satyam\\appdata\\local\\programs\\python\\python310\\lib\\site-packages (from ultralytics) (2.16.2)\n",
      "Requirement already satisfied: pandas>=1.1.4 in c:\\users\\satyam\\appdata\\local\\programs\\python\\python310\\lib\\site-packages (from ultralytics) (2.0.1)\n",
      "Requirement already satisfied: seaborn>=0.11.0 in c:\\users\\satyam\\appdata\\local\\programs\\python\\python310\\lib\\site-packages (from ultralytics) (0.13.2)\n",
      "Requirement already satisfied: ipython in c:\\users\\satyam\\appdata\\roaming\\python\\python310\\site-packages (from ultralytics) (8.16.1)\n",
      "Requirement already satisfied: psutil in c:\\users\\satyam\\appdata\\roaming\\python\\python310\\site-packages (from ultralytics) (5.9.5)\n",
      "Requirement already satisfied: thop>=0.1.1 in c:\\users\\satyam\\appdata\\local\\programs\\python\\python310\\lib\\site-packages (from ultralytics) (0.1.1.post2209072238)\n",
      "Requirement already satisfied: GitPython>=3.1.24 in c:\\users\\satyam\\appdata\\local\\programs\\python\\python310\\lib\\site-packages (from ultralytics) (3.1.31)\n",
      "Requirement already satisfied: gitdb<5,>=4.0.1 in c:\\users\\satyam\\appdata\\local\\programs\\python\\python310\\lib\\site-packages (from GitPython>=3.1.24->ultralytics) (4.0.10)\n",
      "Requirement already satisfied: omegaconf<2.4,>=2.2 in c:\\users\\satyam\\appdata\\local\\programs\\python\\python310\\lib\\site-packages (from hydra-core>=1.2.0->ultralytics) (2.3.0)\n",
      "Requirement already satisfied: antlr4-python3-runtime==4.9.* in c:\\users\\satyam\\appdata\\local\\programs\\python\\python310\\lib\\site-packages (from hydra-core>=1.2.0->ultralytics) (4.9.3)\n",
      "Requirement already satisfied: packaging in c:\\users\\satyam\\appdata\\local\\programs\\python\\python310\\lib\\site-packages (from hydra-core>=1.2.0->ultralytics) (23.1)\n",
      "Requirement already satisfied: contourpy>=1.0.1 in c:\\users\\satyam\\appdata\\local\\programs\\python\\python310\\lib\\site-packages (from matplotlib>=3.2.2->ultralytics) (1.2.0)\n",
      "Requirement already satisfied: cycler>=0.10 in c:\\users\\satyam\\appdata\\local\\programs\\python\\python310\\lib\\site-packages (from matplotlib>=3.2.2->ultralytics) (0.12.1)\n",
      "Requirement already satisfied: fonttools>=4.22.0 in c:\\users\\satyam\\appdata\\local\\programs\\python\\python310\\lib\\site-packages (from matplotlib>=3.2.2->ultralytics) (4.49.0)\n",
      "Requirement already satisfied: kiwisolver>=1.3.1 in c:\\users\\satyam\\appdata\\local\\programs\\python\\python310\\lib\\site-packages (from matplotlib>=3.2.2->ultralytics) (1.4.5)\n",
      "Requirement already satisfied: pyparsing>=2.3.1 in c:\\users\\satyam\\appdata\\local\\programs\\python\\python310\\lib\\site-packages (from matplotlib>=3.2.2->ultralytics) (3.0.9)\n",
      "Requirement already satisfied: python-dateutil>=2.7 in c:\\users\\satyam\\appdata\\local\\programs\\python\\python310\\lib\\site-packages (from matplotlib>=3.2.2->ultralytics) (2.8.2)\n",
      "Requirement already satisfied: pytz>=2020.1 in c:\\users\\satyam\\appdata\\local\\programs\\python\\python310\\lib\\site-packages (from pandas>=1.1.4->ultralytics) (2023.3)\n",
      "Requirement already satisfied: tzdata>=2022.1 in c:\\users\\satyam\\appdata\\local\\programs\\python\\python310\\lib\\site-packages (from pandas>=1.1.4->ultralytics) (2022.7)\n",
      "Requirement already satisfied: charset-normalizer<4,>=2 in c:\\users\\satyam\\appdata\\local\\programs\\python\\python310\\lib\\site-packages (from requests>=2.23.0->ultralytics) (3.1.0)\n",
      "Requirement already satisfied: idna<4,>=2.5 in c:\\users\\satyam\\appdata\\local\\programs\\python\\python310\\lib\\site-packages (from requests>=2.23.0->ultralytics) (3.4)\n",
      "Requirement already satisfied: urllib3<1.27,>=1.21.1 in c:\\users\\satyam\\appdata\\local\\programs\\python\\python310\\lib\\site-packages (from requests>=2.23.0->ultralytics) (1.26.15)\n",
      "Requirement already satisfied: certifi>=2017.4.17 in c:\\users\\satyam\\appdata\\local\\programs\\python\\python310\\lib\\site-packages (from requests>=2.23.0->ultralytics) (2022.12.7)\n",
      "Requirement already satisfied: absl-py>=0.4 in c:\\users\\satyam\\appdata\\local\\programs\\python\\python310\\lib\\site-packages (from tensorboard>=2.4.1->ultralytics) (2.1.0)\n",
      "Requirement already satisfied: grpcio>=1.48.2 in c:\\users\\satyam\\appdata\\local\\programs\\python\\python310\\lib\\site-packages (from tensorboard>=2.4.1->ultralytics) (1.62.1)\n",
      "Requirement already satisfied: markdown>=2.6.8 in c:\\users\\satyam\\appdata\\local\\programs\\python\\python310\\lib\\site-packages (from tensorboard>=2.4.1->ultralytics) (3.6)\n",
      "Requirement already satisfied: protobuf!=4.24.0,>=3.19.6 in c:\\users\\satyam\\appdata\\local\\programs\\python\\python310\\lib\\site-packages (from tensorboard>=2.4.1->ultralytics) (3.20.3)\n",
      "Requirement already satisfied: setuptools>=41.0.0 in c:\\users\\satyam\\appdata\\local\\programs\\python\\python310\\lib\\site-packages (from tensorboard>=2.4.1->ultralytics) (58.1.0)\n",
      "Requirement already satisfied: six>1.9 in c:\\users\\satyam\\appdata\\roaming\\python\\python310\\site-packages (from tensorboard>=2.4.1->ultralytics) (1.16.0)\n",
      "Requirement already satisfied: tensorboard-data-server<0.8.0,>=0.7.0 in c:\\users\\satyam\\appdata\\local\\programs\\python\\python310\\lib\\site-packages (from tensorboard>=2.4.1->ultralytics) (0.7.2)\n",
      "Requirement already satisfied: werkzeug>=1.0.1 in c:\\users\\satyam\\appdata\\local\\programs\\python\\python310\\lib\\site-packages (from tensorboard>=2.4.1->ultralytics) (2.3.4)\n",
      "Requirement already satisfied: filelock in c:\\users\\satyam\\appdata\\roaming\\python\\python310\\site-packages (from torch>=1.7.0->ultralytics) (3.9.0)\n",
      "Requirement already satisfied: typing-extensions>=4.8.0 in c:\\users\\satyam\\appdata\\local\\programs\\python\\python310\\lib\\site-packages (from torch>=1.7.0->ultralytics) (4.10.0)\n",
      "Requirement already satisfied: sympy in c:\\users\\satyam\\appdata\\local\\programs\\python\\python310\\lib\\site-packages (from torch>=1.7.0->ultralytics) (1.12)\n",
      "Requirement already satisfied: networkx in c:\\users\\satyam\\appdata\\local\\programs\\python\\python310\\lib\\site-packages (from torch>=1.7.0->ultralytics) (3.2.1)\n",
      "Requirement already satisfied: jinja2 in c:\\users\\satyam\\appdata\\local\\programs\\python\\python310\\lib\\site-packages (from torch>=1.7.0->ultralytics) (3.1.2)\n",
      "Requirement already satisfied: fsspec in c:\\users\\satyam\\appdata\\local\\programs\\python\\python310\\lib\\site-packages (from torch>=1.7.0->ultralytics) (2024.2.0)\n",
      "Requirement already satisfied: colorama in c:\\users\\satyam\\appdata\\local\\programs\\python\\python310\\lib\\site-packages (from tqdm>=4.64.0->ultralytics) (0.4.6)\n",
      "Requirement already satisfied: backcall in c:\\users\\satyam\\appdata\\roaming\\python\\python310\\site-packages (from ipython->ultralytics) (0.2.0)\n",
      "Requirement already satisfied: decorator in c:\\users\\satyam\\appdata\\local\\programs\\python\\python310\\lib\\site-packages (from ipython->ultralytics) (5.1.1)\n",
      "Requirement already satisfied: jedi>=0.16 in c:\\users\\satyam\\appdata\\roaming\\python\\python310\\site-packages (from ipython->ultralytics) (0.19.1)\n",
      "Requirement already satisfied: matplotlib-inline in c:\\users\\satyam\\appdata\\roaming\\python\\python310\\site-packages (from ipython->ultralytics) (0.1.6)\n",
      "Requirement already satisfied: pickleshare in c:\\users\\satyam\\appdata\\roaming\\python\\python310\\site-packages (from ipython->ultralytics) (0.7.5)\n",
      "Requirement already satisfied: prompt-toolkit!=3.0.37,<3.1.0,>=3.0.30 in c:\\users\\satyam\\appdata\\roaming\\python\\python310\\site-packages (from ipython->ultralytics) (3.0.39)\n",
      "Requirement already satisfied: pygments>=2.4.0 in c:\\users\\satyam\\appdata\\local\\programs\\python\\python310\\lib\\site-packages (from ipython->ultralytics) (2.15.1)\n",
      "Requirement already satisfied: stack-data in c:\\users\\satyam\\appdata\\roaming\\python\\python310\\site-packages (from ipython->ultralytics) (0.6.3)\n",
      "Requirement already satisfied: traitlets>=5 in c:\\users\\satyam\\appdata\\roaming\\python\\python310\\site-packages (from ipython->ultralytics) (5.11.2)\n",
      "Requirement already satisfied: exceptiongroup in c:\\users\\satyam\\appdata\\roaming\\python\\python310\\site-packages (from ipython->ultralytics) (1.1.3)\n",
      "Requirement already satisfied: smmap<6,>=3.0.1 in c:\\users\\satyam\\appdata\\local\\programs\\python\\python310\\lib\\site-packages (from gitdb<5,>=4.0.1->GitPython>=3.1.24->ultralytics) (5.0.0)\n",
      "Requirement already satisfied: parso<0.9.0,>=0.8.3 in c:\\users\\satyam\\appdata\\roaming\\python\\python310\\site-packages (from jedi>=0.16->ipython->ultralytics) (0.8.3)\n",
      "Requirement already satisfied: wcwidth in c:\\users\\satyam\\appdata\\roaming\\python\\python310\\site-packages (from prompt-toolkit!=3.0.37,<3.1.0,>=3.0.30->ipython->ultralytics) (0.2.8)\n",
      "Requirement already satisfied: MarkupSafe>=2.1.1 in c:\\users\\satyam\\appdata\\local\\programs\\python\\python310\\lib\\site-packages (from werkzeug>=1.0.1->tensorboard>=2.4.1->ultralytics) (2.1.2)\n",
      "Requirement already satisfied: executing>=1.2.0 in c:\\users\\satyam\\appdata\\roaming\\python\\python310\\site-packages (from stack-data->ipython->ultralytics) (2.0.0)\n",
      "Requirement already satisfied: asttokens>=2.1.0 in c:\\users\\satyam\\appdata\\roaming\\python\\python310\\site-packages (from stack-data->ipython->ultralytics) (2.4.0)\n",
      "Requirement already satisfied: pure-eval in c:\\users\\satyam\\appdata\\roaming\\python\\python310\\site-packages (from stack-data->ipython->ultralytics) (0.2.2)\n",
      "Requirement already satisfied: mpmath>=0.19 in c:\\users\\satyam\\appdata\\local\\programs\\python\\python310\\lib\\site-packages (from sympy->torch>=1.7.0->ultralytics) (1.3.0)\n",
      "Note: you may need to restart the kernel to use updated packages.\n"
     ]
    },
    {
     "name": "stderr",
     "output_type": "stream",
     "text": [
      "\n",
      "[notice] A new release of pip is available: 23.1.2 -> 24.0\n",
      "[notice] To update, run: python.exe -m pip install --upgrade pip\n"
     ]
    }
   ],
   "source": [
    "pip install ultralytics"
   ]
  },
  {
   "cell_type": "code",
   "execution_count": 2,
   "metadata": {},
   "outputs": [
    {
     "name": "stderr",
     "output_type": "stream",
     "text": [
      "c:\\Users\\SATYAM\\AppData\\Local\\Programs\\Python\\Python310\\lib\\site-packages\\tqdm\\auto.py:21: TqdmWarning: IProgress not found. Please update jupyter and ipywidgets. See https://ipywidgets.readthedocs.io/en/stable/user_install.html\n",
      "  from .autonotebook import tqdm as notebook_tqdm\n"
     ]
    }
   ],
   "source": [
    "import os\n",
    "\n",
    "from ultralytics import YOLO\n",
    "\n"
   ]
  },
  {
   "cell_type": "code",
   "execution_count": 3,
   "metadata": {},
   "outputs": [
    {
     "name": "stderr",
     "output_type": "stream",
     "text": [
      "\n",
      "                   from  n    params  module                                       arguments                     \n",
      "  0                  -1  1       464  ultralytics.nn.modules.Conv                  [3, 16, 3, 2]                 \n",
      "  1                  -1  1      4672  ultralytics.nn.modules.Conv                  [16, 32, 3, 2]                \n",
      "  2                  -1  1      7360  ultralytics.nn.modules.C2f                   [32, 32, 1, True]             \n",
      "  3                  -1  1     18560  ultralytics.nn.modules.Conv                  [32, 64, 3, 2]                \n",
      "  4                  -1  2     49664  ultralytics.nn.modules.C2f                   [64, 64, 2, True]             \n",
      "  5                  -1  1     73984  ultralytics.nn.modules.Conv                  [64, 128, 3, 2]               \n",
      "  6                  -1  2    197632  ultralytics.nn.modules.C2f                   [128, 128, 2, True]           \n",
      "  7                  -1  1    295424  ultralytics.nn.modules.Conv                  [128, 256, 3, 2]              \n",
      "  8                  -1  1    460288  ultralytics.nn.modules.C2f                   [256, 256, 1, True]           \n",
      "  9                  -1  1    164608  ultralytics.nn.modules.SPPF                  [256, 256, 5]                 \n",
      " 10                  -1  1         0  torch.nn.modules.upsampling.Upsample         [None, 2, 'nearest']          \n",
      " 11             [-1, 6]  1         0  ultralytics.nn.modules.Concat                [1]                           \n",
      " 12                  -1  1    148224  ultralytics.nn.modules.C2f                   [384, 128, 1]                 \n",
      " 13                  -1  1         0  torch.nn.modules.upsampling.Upsample         [None, 2, 'nearest']          \n",
      " 14             [-1, 4]  1         0  ultralytics.nn.modules.Concat                [1]                           \n",
      " 15                  -1  1     37248  ultralytics.nn.modules.C2f                   [192, 64, 1]                  \n",
      " 16                  -1  1     36992  ultralytics.nn.modules.Conv                  [64, 64, 3, 2]                \n",
      " 17            [-1, 12]  1         0  ultralytics.nn.modules.Concat                [1]                           \n",
      " 18                  -1  1    123648  ultralytics.nn.modules.C2f                   [192, 128, 1]                 \n",
      " 19                  -1  1    147712  ultralytics.nn.modules.Conv                  [128, 128, 3, 2]              \n",
      " 20             [-1, 9]  1         0  ultralytics.nn.modules.Concat                [1]                           \n",
      " 21                  -1  1    493056  ultralytics.nn.modules.C2f                   [384, 256, 1]                 \n",
      " 22        [15, 18, 21]  1    897664  ultralytics.nn.modules.Detect                [80, [64, 128, 256]]          \n",
      "YOLOv8n summary: 225 layers, 3157200 parameters, 3157184 gradients, 8.9 GFLOPs\n",
      "\n"
     ]
    }
   ],
   "source": [
    "#load model\n",
    "\n",
    "model = YOLO(\"yolov8n.yaml\")\n",
    "model = YOLO(\"yolov8n.pt\") "
   ]
  },
  {
   "cell_type": "code",
   "execution_count": 4,
   "metadata": {},
   "outputs": [
    {
     "name": "stderr",
     "output_type": "stream",
     "text": [
      "\u001b[34m\u001b[1myolo\\engine\\trainer: \u001b[0mtask=detect, mode=train, model=yolov8n.yaml, data=dl08.yaml, epochs=3, patience=50, batch=16, imgsz=640, save=True, cache=False, device=None, workers=8, project=None, name=None, exist_ok=False, pretrained=False, optimizer=SGD, verbose=False, seed=0, deterministic=True, single_cls=False, image_weights=False, rect=False, cos_lr=False, close_mosaic=10, resume=False, overlap_mask=True, mask_ratio=4, dropout=False, val=True, save_json=False, save_hybrid=False, conf=0.001, iou=0.7, max_det=300, half=True, dnn=False, plots=True, source=ultralytics/assets/, show=False, save_txt=False, save_conf=False, save_crop=False, hide_labels=False, hide_conf=False, vid_stride=1, line_thickness=3, visualize=False, augment=False, agnostic_nms=False, retina_masks=False, format=torchscript, keras=False, optimize=False, int8=False, dynamic=False, simplify=False, opset=17, workspace=4, nms=False, lr0=0.01, lrf=0.01, momentum=0.937, weight_decay=0.001, warmup_epochs=3.0, warmup_momentum=0.8, warmup_bias_lr=0.1, box=7.5, cls=0.5, dfl=1.5, fl_gamma=0.0, label_smoothing=0.0, nbs=64, hsv_h=0.015, hsv_s=0.7, hsv_v=0.4, degrees=0.0, translate=0.1, scale=0.5, shear=0.0, perspective=0.0, flipud=0.0, fliplr=0.5, mosaic=1.0, mixup=0.0, copy_paste=0.0, hydra={'output_subdir': None, 'run': {'dir': '.'}}, v5loader=True, save_dir=runs\\detect\\train7\n",
      "Ultralytics YOLOv8.0.0  Python-3.10.5 torch-2.2.1+cpu CPU\n",
      "Overriding model.yaml nc=80 with nc=1\n",
      "\n",
      "                   from  n    params  module                                       arguments                     \n",
      "  0                  -1  1       464  ultralytics.nn.modules.Conv                  [3, 16, 3, 2]                 \n",
      "  1                  -1  1      4672  ultralytics.nn.modules.Conv                  [16, 32, 3, 2]                \n",
      "  2                  -1  1      7360  ultralytics.nn.modules.C2f                   [32, 32, 1, True]             \n",
      "  3                  -1  1     18560  ultralytics.nn.modules.Conv                  [32, 64, 3, 2]                \n",
      "  4                  -1  2     49664  ultralytics.nn.modules.C2f                   [64, 64, 2, True]             \n",
      "  5                  -1  1     73984  ultralytics.nn.modules.Conv                  [64, 128, 3, 2]               \n",
      "  6                  -1  2    197632  ultralytics.nn.modules.C2f                   [128, 128, 2, True]           \n",
      "  7                  -1  1    295424  ultralytics.nn.modules.Conv                  [128, 256, 3, 2]              \n",
      "  8                  -1  1    460288  ultralytics.nn.modules.C2f                   [256, 256, 1, True]           \n",
      "  9                  -1  1    164608  ultralytics.nn.modules.SPPF                  [256, 256, 5]                 \n",
      " 10                  -1  1         0  torch.nn.modules.upsampling.Upsample         [None, 2, 'nearest']          \n",
      " 11             [-1, 6]  1         0  ultralytics.nn.modules.Concat                [1]                           \n",
      " 12                  -1  1    148224  ultralytics.nn.modules.C2f                   [384, 128, 1]                 \n",
      " 13                  -1  1         0  torch.nn.modules.upsampling.Upsample         [None, 2, 'nearest']          \n",
      " 14             [-1, 4]  1         0  ultralytics.nn.modules.Concat                [1]                           \n",
      " 15                  -1  1     37248  ultralytics.nn.modules.C2f                   [192, 64, 1]                  \n",
      " 16                  -1  1     36992  ultralytics.nn.modules.Conv                  [64, 64, 3, 2]                \n",
      " 17            [-1, 12]  1         0  ultralytics.nn.modules.Concat                [1]                           \n",
      " 18                  -1  1    123648  ultralytics.nn.modules.C2f                   [192, 128, 1]                 \n",
      " 19                  -1  1    147712  ultralytics.nn.modules.Conv                  [128, 128, 3, 2]              \n",
      " 20             [-1, 9]  1         0  ultralytics.nn.modules.Concat                [1]                           \n",
      " 21                  -1  1    493056  ultralytics.nn.modules.C2f                   [384, 256, 1]                 \n",
      " 22        [15, 18, 21]  1    751507  ultralytics.nn.modules.Detect                [1, [64, 128, 256]]           \n",
      "Model summary: 225 layers, 3011043 parameters, 3011027 gradients, 8.2 GFLOPs\n",
      "\n",
      "Transferred 355/355 items from pretrained weights\n",
      "\u001b[34m\u001b[1moptimizer:\u001b[0m SGD(lr=0.01) with parameter groups 57 weight(decay=0.0), 64 weight(decay=0.001), 63 bias\n",
      "\u001b[34m\u001b[1mtrain: \u001b[0mScanning D:\\Projects\\DL08\\data\\train\\labels... 40 images, 0 backgrounds, 0 corrupt: 100%|██████████| 40/40 [00:55<00:00,  1.39s/it]\n",
      "\u001b[34m\u001b[1mtrain: \u001b[0mNew cache created: D:\\Projects\\DL08\\data\\train\\labels.cache\n",
      "\u001b[34m\u001b[1mval: \u001b[0mScanning D:\\Projects\\DL08\\data\\valid\\labels... 10 images, 0 backgrounds, 0 corrupt: 100%|██████████| 10/10 [00:35<00:00,  3.55s/it]\n",
      "\u001b[34m\u001b[1mval: \u001b[0mNew cache created: D:\\Projects\\DL08\\data\\valid\\labels.cache\n",
      "Image sizes 640 train, 640 val\n",
      "Using 0 dataloader workers\n",
      "Logging results to \u001b[1mruns\\detect\\train7\u001b[0m\n",
      "Starting training for 3 epochs...\n",
      "\n",
      "      Epoch    GPU_mem   box_loss   cls_loss   dfl_loss  Instances       Size\n",
      "        1/3         0G      3.721      3.849      4.301         66        640: 100%|██████████| 3/3 [08:13<00:00, 164.48s/it]\n",
      "                 Class     Images  Instances      Box(P          R      mAP50  mAP50-95): 100%|██████████| 1/1 [00:11<00:00, 11.44s/it]\n"
     ]
    }
   ],
   "source": [
    "# use the model\n",
    "results = model.train(data=\"dl08.yaml\",epochs=3)"
   ]
  },
  {
   "cell_type": "code",
   "execution_count": null,
   "metadata": {},
   "outputs": [],
   "source": []
  }
 ],
 "metadata": {
  "kernelspec": {
   "display_name": "Python 3",
   "language": "python",
   "name": "python3"
  },
  "language_info": {
   "codemirror_mode": {
    "name": "ipython",
    "version": 3
   },
   "file_extension": ".py",
   "mimetype": "text/x-python",
   "name": "python",
   "nbconvert_exporter": "python",
   "pygments_lexer": "ipython3",
   "version": "3.10.5"
  }
 },
 "nbformat": 4,
 "nbformat_minor": 2
}
